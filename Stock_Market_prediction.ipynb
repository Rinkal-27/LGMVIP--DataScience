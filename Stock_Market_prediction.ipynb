{
  "nbformat": 4,
  "nbformat_minor": 0,
  "metadata": {
    "colab": {
      "provenance": [],
      "authorship_tag": "ABX9TyNMfV9FXPzPs/iiGUDIRBnM",
      "include_colab_link": true
    },
    "kernelspec": {
      "name": "python3",
      "display_name": "Python 3"
    },
    "language_info": {
      "name": "python"
    }
  },
  "cells": [
    {
      "cell_type": "markdown",
      "metadata": {
        "id": "view-in-github",
        "colab_type": "text"
      },
      "source": [
        "<a href=\"https://colab.research.google.com/github/Rinkal-27/LGMVIP--DataScience/blob/main/Stock_Market_prediction.ipynb\" target=\"_parent\"><img src=\"https://colab.research.google.com/assets/colab-badge.svg\" alt=\"Open In Colab\"/></a>"
      ]
    },
    {
      "cell_type": "code",
      "execution_count": null,
      "metadata": {
        "id": "MVpm1sMdwWgM"
      },
      "outputs": [],
      "source": [
        "import numpy as np\n",
        "import pandas as pd\n",
        "from sklearn.preprocessing import MinMaxScaler\n",
        "from keras.models import Sequential\n",
        "from keras.layers import LSTM, Dense"
      ]
    },
    {
      "cell_type": "code",
      "source": [
        "url = \"https://raw.githubusercontent.com/mwitiderrick/stockprice/master/NSE-TATAGLOBAL.csv\"\n",
        "\n",
        "dataset = pd.read_csv(url)\n",
        "\n",
        "print(dataset.head())"
      ],
      "metadata": {
        "colab": {
          "base_uri": "https://localhost:8080/"
        },
        "id": "dAZu_3wTwjPK",
        "outputId": "27dde9c1-b787-4183-bd15-5c5bab1bb6c0"
      },
      "execution_count": null,
      "outputs": [
        {
          "output_type": "stream",
          "name": "stdout",
          "text": [
            "         Date    Open    High     Low    Last   Close  Total Trade Quantity  \\\n",
            "0  2018-09-28  234.05  235.95  230.20  233.50  233.75               3069914   \n",
            "1  2018-09-27  234.55  236.80  231.10  233.80  233.25               5082859   \n",
            "2  2018-09-26  240.00  240.00  232.50  235.00  234.25               2240909   \n",
            "3  2018-09-25  233.30  236.75  232.00  236.25  236.10               2349368   \n",
            "4  2018-09-24  233.55  239.20  230.75  234.00  233.30               3423509   \n",
            "\n",
            "   Turnover (Lacs)  \n",
            "0          7162.35  \n",
            "1         11859.95  \n",
            "2          5248.60  \n",
            "3          5503.90  \n",
            "4          7999.55  \n"
          ]
        }
      ]
    },
    {
      "cell_type": "code",
      "source": [
        "data = dataset[['Date', 'Close']]\n",
        "\n",
        "data = data.sort_values('Date')\n",
        "\n",
        "data.set_index('Date', inplace=True)"
      ],
      "metadata": {
        "id": "ubZI1xscwm9u"
      },
      "execution_count": null,
      "outputs": []
    },
    {
      "cell_type": "code",
      "source": [
        "# Normalizing the data\n",
        "scaler = MinMaxScaler(feature_range=(0, 1))\n",
        "scaled_data = scaler.fit_transform(data)"
      ],
      "metadata": {
        "id": "EyViqwrDwtwN"
      },
      "execution_count": null,
      "outputs": []
    },
    {
      "cell_type": "code",
      "source": [
        "# Split the data into training and testing sets\n",
        "train_size = int(len(data) * 0.8)\n",
        "train_data, test_data = scaled_data[:train_size], scaled_data[train_size:]"
      ],
      "metadata": {
        "id": "4QsIQO6OwwJP"
      },
      "execution_count": null,
      "outputs": []
    },
    {
      "cell_type": "code",
      "source": [
        "# Function to create sequences and labels from the data\n",
        "def create_sequences(data, sequence_length):\n",
        "    X, y = [], []\n",
        "    for i in range(len(data)-sequence_length):\n",
        "        X.append(data[i:i+sequence_length])\n",
        "        y.append(data[i+sequence_length])\n",
        "    return np.array(X), np.array(y)"
      ],
      "metadata": {
        "id": "_YWrHIk3w1QF"
      },
      "execution_count": null,
      "outputs": []
    },
    {
      "cell_type": "code",
      "source": [
        "# Set the sequence length\n",
        "sequence_length = 100\n",
        "X_train, y_train = create_sequences(train_data, sequence_length)"
      ],
      "metadata": {
        "id": "2wNYQ2X6w7EN"
      },
      "execution_count": null,
      "outputs": []
    },
    {
      "cell_type": "code",
      "source": [
        "# Create sequences and labels for the testing set\n",
        "X_test, y_test = create_sequences(test_data, sequence_length)\n",
        "\n",
        "# Reshape the input data for LSTM\n",
        "X_train = np.reshape(X_train, (X_train.shape[0], X_train.shape[1], 1))\n",
        "X_test = np.reshape(X_test, (X_test.shape[0], X_test.shape[1], 1))"
      ],
      "metadata": {
        "id": "BHlh3uOEw7cR"
      },
      "execution_count": null,
      "outputs": []
    },
    {
      "cell_type": "code",
      "source": [
        "# Build the Stacked LSTM model\n",
        "model = Sequential()\n",
        "model.add(LSTM(50, return_sequences=True, input_shape=(X_train.shape[1], 1)))\n",
        "model.add(LSTM(50, return_sequences=True))\n",
        "model.add(LSTM(50))\n",
        "model.add(Dense(1))\n",
        "model.compile(optimizer='adam', loss='mean_squared_error')"
      ],
      "metadata": {
        "id": "iY20PY08xAO4"
      },
      "execution_count": null,
      "outputs": []
    },
    {
      "cell_type": "code",
      "source": [
        "# Train the model\n",
        "model.fit(X_train, y_train, epochs=10, batch_size=64)"
      ],
      "metadata": {
        "colab": {
          "base_uri": "https://localhost:8080/"
        },
        "id": "mAuXF6nVxDSc",
        "outputId": "e37a643f-07b2-40d3-a7fe-6fdc1f87681c"
      },
      "execution_count": null,
      "outputs": [
        {
          "output_type": "stream",
          "name": "stdout",
          "text": [
            "Epoch 1/10\n",
            "24/24 [==============================] - 19s 174ms/step - loss: 0.0080\n",
            "Epoch 2/10\n",
            "24/24 [==============================] - 5s 227ms/step - loss: 0.0013\n",
            "Epoch 3/10\n",
            "24/24 [==============================] - 4s 173ms/step - loss: 9.6242e-04\n",
            "Epoch 4/10\n",
            "24/24 [==============================] - 4s 172ms/step - loss: 9.0078e-04\n",
            "Epoch 5/10\n",
            "24/24 [==============================] - 5s 230ms/step - loss: 8.3751e-04\n",
            "Epoch 6/10\n",
            "24/24 [==============================] - 4s 176ms/step - loss: 8.0799e-04\n",
            "Epoch 7/10\n",
            "24/24 [==============================] - 4s 173ms/step - loss: 7.7703e-04\n",
            "Epoch 8/10\n",
            "24/24 [==============================] - 5s 227ms/step - loss: 7.3398e-04\n",
            "Epoch 9/10\n",
            "24/24 [==============================] - 4s 170ms/step - loss: 7.2060e-04\n",
            "Epoch 10/10\n",
            "24/24 [==============================] - 5s 194ms/step - loss: 6.7399e-04\n"
          ]
        },
        {
          "output_type": "execute_result",
          "data": {
            "text/plain": [
              "<keras.callbacks.History at 0x7facc078ba60>"
            ]
          },
          "metadata": {},
          "execution_count": 10
        }
      ]
    },
    {
      "cell_type": "code",
      "source": [
        "# Making predictions on the testing set\n",
        "predictions = model.predict(X_test)"
      ],
      "metadata": {
        "colab": {
          "base_uri": "https://localhost:8080/"
        },
        "id": "sb5dnKL4xGHB",
        "outputId": "397d1e40-9a83-4e39-8f2d-ab41a5ed339d"
      },
      "execution_count": null,
      "outputs": [
        {
          "output_type": "stream",
          "name": "stdout",
          "text": [
            "10/10 [==============================] - 2s 41ms/step\n"
          ]
        }
      ]
    },
    {
      "cell_type": "code",
      "source": [
        "# Inversing transform the predictions and actual values\n",
        "predictions = scaler.inverse_transform(predictions)\n",
        "y_test = scaler.inverse_transform(y_test)\n"
      ],
      "metadata": {
        "id": "_9LBZcCYxIz8"
      },
      "execution_count": null,
      "outputs": []
    },
    {
      "cell_type": "code",
      "source": [
        "# Calculate the root mean squared error (RMSE)\n",
        "rmse = np.sqrt(np.mean((predictions - y_test)**2))\n",
        "print('RMSE:', rmse)"
      ],
      "metadata": {
        "colab": {
          "base_uri": "https://localhost:8080/"
        },
        "id": "5PJTck3TxNSu",
        "outputId": "f8f08034-fc11-4bac-bc57-89ae449529b0"
      },
      "execution_count": null,
      "outputs": [
        {
          "output_type": "stream",
          "name": "stdout",
          "text": [
            "RMSE: 22.24501481616915\n"
          ]
        }
      ]
    }
  ]
}