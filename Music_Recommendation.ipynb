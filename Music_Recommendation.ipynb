{
  "nbformat": 4,
  "nbformat_minor": 0,
  "metadata": {
    "colab": {
      "provenance": [],
      "authorship_tag": "ABX9TyNmD2sU4IaPDGB4ajovcMYG",
      "include_colab_link": true
    },
    "kernelspec": {
      "name": "python3",
      "display_name": "Python 3"
    },
    "language_info": {
      "name": "python"
    }
  },
  "cells": [
    {
      "cell_type": "markdown",
      "metadata": {
        "id": "view-in-github",
        "colab_type": "text"
      },
      "source": [
        "<a href=\"https://colab.research.google.com/github/Rinkal-27/LGMVIP--DataScience/blob/main/Music_Recommendation.ipynb\" target=\"_parent\"><img src=\"https://colab.research.google.com/assets/colab-badge.svg\" alt=\"Open In Colab\"/></a>"
      ]
    },
    {
      "cell_type": "code",
      "source": [
        "import pandas as pd\n",
        "import matplotlib.pyplot as plt\n",
        "import seaborn as sns\n",
        "import pandas as pd\n",
        "from surprise import Reader, Dataset, SVD\n",
        "from surprise.model_selection import train_test_split\n",
        "from surprise.accuracy import rmse"
      ],
      "metadata": {
        "id": "iGj6OKuGuGNE"
      },
      "execution_count": 1,
      "outputs": []
    },
    {
      "cell_type": "code",
      "source": [
        "pip install surprise"
      ],
      "metadata": {
        "colab": {
          "base_uri": "https://localhost:8080/"
        },
        "id": "4RVWO0XlIXyJ",
        "outputId": "5c84730c-76bb-44ca-9804-91f8ae8e0026"
      },
      "execution_count": 3,
      "outputs": [
        {
          "output_type": "stream",
          "name": "stdout",
          "text": [
            "Looking in indexes: https://pypi.org/simple, https://us-python.pkg.dev/colab-wheels/public/simple/\n",
            "Collecting surprise\n",
            "  Downloading surprise-0.1-py2.py3-none-any.whl (1.8 kB)\n",
            "Collecting scikit-surprise (from surprise)\n",
            "  Downloading scikit-surprise-1.1.3.tar.gz (771 kB)\n",
            "\u001b[2K     \u001b[90m━━━━━━━━━━━━━━━━━━━━━━━━━━━━━━━━━━━━━━\u001b[0m \u001b[32m772.0/772.0 kB\u001b[0m \u001b[31m24.5 MB/s\u001b[0m eta \u001b[36m0:00:00\u001b[0m\n",
            "\u001b[?25h  Preparing metadata (setup.py) ... \u001b[?25l\u001b[?25hdone\n",
            "Requirement already satisfied: joblib>=1.0.0 in /usr/local/lib/python3.10/dist-packages (from scikit-surprise->surprise) (1.2.0)\n",
            "Requirement already satisfied: numpy>=1.17.3 in /usr/local/lib/python3.10/dist-packages (from scikit-surprise->surprise) (1.22.4)\n",
            "Requirement already satisfied: scipy>=1.3.2 in /usr/local/lib/python3.10/dist-packages (from scikit-surprise->surprise) (1.10.1)\n",
            "Building wheels for collected packages: scikit-surprise\n",
            "  Building wheel for scikit-surprise (setup.py) ... \u001b[?25l\u001b[?25hdone\n",
            "  Created wheel for scikit-surprise: filename=scikit_surprise-1.1.3-cp310-cp310-linux_x86_64.whl size=3095450 sha256=faba31c2dcd21a876e06835c89cbf0de5a1e54052afd1bdde42f390c8e4df670\n",
            "  Stored in directory: /root/.cache/pip/wheels/a5/ca/a8/4e28def53797fdc4363ca4af740db15a9c2f1595ebc51fb445\n",
            "Successfully built scikit-surprise\n",
            "Installing collected packages: scikit-surprise, surprise\n",
            "Successfully installed scikit-surprise-1.1.3 surprise-0.1\n"
          ]
        }
      ]
    },
    {
      "cell_type": "code",
      "source": [
        "!pip install kaggle\n",
        "from google.colab import files\n",
        "files.upload()  # Upload your Kaggle API key (kaggle.json)\n",
        "!mkdir -p ~/.kaggle\n",
        "!cp kaggle.json ~/.kaggle/\n",
        "!chmod 600 ~/.kaggle/kaggle.json\n"
      ],
      "metadata": {
        "colab": {
          "base_uri": "https://localhost:8080/",
          "height": 281
        },
        "id": "8ccRfySjOmo6",
        "outputId": "bee7ffb0-9015-45aa-948b-003996ce08e6"
      },
      "execution_count": 28,
      "outputs": [
        {
          "output_type": "stream",
          "name": "stdout",
          "text": [
            "Looking in indexes: https://pypi.org/simple, https://us-python.pkg.dev/colab-wheels/public/simple/\n",
            "Requirement already satisfied: kaggle in /usr/local/lib/python3.10/dist-packages (1.5.13)\n",
            "Requirement already satisfied: six>=1.10 in /usr/local/lib/python3.10/dist-packages (from kaggle) (1.16.0)\n",
            "Requirement already satisfied: certifi in /usr/local/lib/python3.10/dist-packages (from kaggle) (2022.12.7)\n",
            "Requirement already satisfied: python-dateutil in /usr/local/lib/python3.10/dist-packages (from kaggle) (2.8.2)\n",
            "Requirement already satisfied: requests in /usr/local/lib/python3.10/dist-packages (from kaggle) (2.27.1)\n",
            "Requirement already satisfied: tqdm in /usr/local/lib/python3.10/dist-packages (from kaggle) (4.65.0)\n",
            "Requirement already satisfied: python-slugify in /usr/local/lib/python3.10/dist-packages (from kaggle) (8.0.1)\n",
            "Requirement already satisfied: urllib3 in /usr/local/lib/python3.10/dist-packages (from kaggle) (1.26.15)\n",
            "Requirement already satisfied: text-unidecode>=1.3 in /usr/local/lib/python3.10/dist-packages (from python-slugify->kaggle) (1.3)\n",
            "Requirement already satisfied: charset-normalizer~=2.0.0 in /usr/local/lib/python3.10/dist-packages (from requests->kaggle) (2.0.12)\n",
            "Requirement already satisfied: idna<4,>=2.5 in /usr/local/lib/python3.10/dist-packages (from requests->kaggle) (3.4)\n"
          ]
        },
        {
          "output_type": "display_data",
          "data": {
            "text/plain": [
              "<IPython.core.display.HTML object>"
            ],
            "text/html": [
              "\n",
              "     <input type=\"file\" id=\"files-46b4f5e5-86c4-472e-8f8e-28f949390dad\" name=\"files[]\" multiple disabled\n",
              "        style=\"border:none\" />\n",
              "     <output id=\"result-46b4f5e5-86c4-472e-8f8e-28f949390dad\">\n",
              "      Upload widget is only available when the cell has been executed in the\n",
              "      current browser session. Please rerun this cell to enable.\n",
              "      </output>\n",
              "      <script>// Copyright 2017 Google LLC\n",
              "//\n",
              "// Licensed under the Apache License, Version 2.0 (the \"License\");\n",
              "// you may not use this file except in compliance with the License.\n",
              "// You may obtain a copy of the License at\n",
              "//\n",
              "//      http://www.apache.org/licenses/LICENSE-2.0\n",
              "//\n",
              "// Unless required by applicable law or agreed to in writing, software\n",
              "// distributed under the License is distributed on an \"AS IS\" BASIS,\n",
              "// WITHOUT WARRANTIES OR CONDITIONS OF ANY KIND, either express or implied.\n",
              "// See the License for the specific language governing permissions and\n",
              "// limitations under the License.\n",
              "\n",
              "/**\n",
              " * @fileoverview Helpers for google.colab Python module.\n",
              " */\n",
              "(function(scope) {\n",
              "function span(text, styleAttributes = {}) {\n",
              "  const element = document.createElement('span');\n",
              "  element.textContent = text;\n",
              "  for (const key of Object.keys(styleAttributes)) {\n",
              "    element.style[key] = styleAttributes[key];\n",
              "  }\n",
              "  return element;\n",
              "}\n",
              "\n",
              "// Max number of bytes which will be uploaded at a time.\n",
              "const MAX_PAYLOAD_SIZE = 100 * 1024;\n",
              "\n",
              "function _uploadFiles(inputId, outputId) {\n",
              "  const steps = uploadFilesStep(inputId, outputId);\n",
              "  const outputElement = document.getElementById(outputId);\n",
              "  // Cache steps on the outputElement to make it available for the next call\n",
              "  // to uploadFilesContinue from Python.\n",
              "  outputElement.steps = steps;\n",
              "\n",
              "  return _uploadFilesContinue(outputId);\n",
              "}\n",
              "\n",
              "// This is roughly an async generator (not supported in the browser yet),\n",
              "// where there are multiple asynchronous steps and the Python side is going\n",
              "// to poll for completion of each step.\n",
              "// This uses a Promise to block the python side on completion of each step,\n",
              "// then passes the result of the previous step as the input to the next step.\n",
              "function _uploadFilesContinue(outputId) {\n",
              "  const outputElement = document.getElementById(outputId);\n",
              "  const steps = outputElement.steps;\n",
              "\n",
              "  const next = steps.next(outputElement.lastPromiseValue);\n",
              "  return Promise.resolve(next.value.promise).then((value) => {\n",
              "    // Cache the last promise value to make it available to the next\n",
              "    // step of the generator.\n",
              "    outputElement.lastPromiseValue = value;\n",
              "    return next.value.response;\n",
              "  });\n",
              "}\n",
              "\n",
              "/**\n",
              " * Generator function which is called between each async step of the upload\n",
              " * process.\n",
              " * @param {string} inputId Element ID of the input file picker element.\n",
              " * @param {string} outputId Element ID of the output display.\n",
              " * @return {!Iterable<!Object>} Iterable of next steps.\n",
              " */\n",
              "function* uploadFilesStep(inputId, outputId) {\n",
              "  const inputElement = document.getElementById(inputId);\n",
              "  inputElement.disabled = false;\n",
              "\n",
              "  const outputElement = document.getElementById(outputId);\n",
              "  outputElement.innerHTML = '';\n",
              "\n",
              "  const pickedPromise = new Promise((resolve) => {\n",
              "    inputElement.addEventListener('change', (e) => {\n",
              "      resolve(e.target.files);\n",
              "    });\n",
              "  });\n",
              "\n",
              "  const cancel = document.createElement('button');\n",
              "  inputElement.parentElement.appendChild(cancel);\n",
              "  cancel.textContent = 'Cancel upload';\n",
              "  const cancelPromise = new Promise((resolve) => {\n",
              "    cancel.onclick = () => {\n",
              "      resolve(null);\n",
              "    };\n",
              "  });\n",
              "\n",
              "  // Wait for the user to pick the files.\n",
              "  const files = yield {\n",
              "    promise: Promise.race([pickedPromise, cancelPromise]),\n",
              "    response: {\n",
              "      action: 'starting',\n",
              "    }\n",
              "  };\n",
              "\n",
              "  cancel.remove();\n",
              "\n",
              "  // Disable the input element since further picks are not allowed.\n",
              "  inputElement.disabled = true;\n",
              "\n",
              "  if (!files) {\n",
              "    return {\n",
              "      response: {\n",
              "        action: 'complete',\n",
              "      }\n",
              "    };\n",
              "  }\n",
              "\n",
              "  for (const file of files) {\n",
              "    const li = document.createElement('li');\n",
              "    li.append(span(file.name, {fontWeight: 'bold'}));\n",
              "    li.append(span(\n",
              "        `(${file.type || 'n/a'}) - ${file.size} bytes, ` +\n",
              "        `last modified: ${\n",
              "            file.lastModifiedDate ? file.lastModifiedDate.toLocaleDateString() :\n",
              "                                    'n/a'} - `));\n",
              "    const percent = span('0% done');\n",
              "    li.appendChild(percent);\n",
              "\n",
              "    outputElement.appendChild(li);\n",
              "\n",
              "    const fileDataPromise = new Promise((resolve) => {\n",
              "      const reader = new FileReader();\n",
              "      reader.onload = (e) => {\n",
              "        resolve(e.target.result);\n",
              "      };\n",
              "      reader.readAsArrayBuffer(file);\n",
              "    });\n",
              "    // Wait for the data to be ready.\n",
              "    let fileData = yield {\n",
              "      promise: fileDataPromise,\n",
              "      response: {\n",
              "        action: 'continue',\n",
              "      }\n",
              "    };\n",
              "\n",
              "    // Use a chunked sending to avoid message size limits. See b/62115660.\n",
              "    let position = 0;\n",
              "    do {\n",
              "      const length = Math.min(fileData.byteLength - position, MAX_PAYLOAD_SIZE);\n",
              "      const chunk = new Uint8Array(fileData, position, length);\n",
              "      position += length;\n",
              "\n",
              "      const base64 = btoa(String.fromCharCode.apply(null, chunk));\n",
              "      yield {\n",
              "        response: {\n",
              "          action: 'append',\n",
              "          file: file.name,\n",
              "          data: base64,\n",
              "        },\n",
              "      };\n",
              "\n",
              "      let percentDone = fileData.byteLength === 0 ?\n",
              "          100 :\n",
              "          Math.round((position / fileData.byteLength) * 100);\n",
              "      percent.textContent = `${percentDone}% done`;\n",
              "\n",
              "    } while (position < fileData.byteLength);\n",
              "  }\n",
              "\n",
              "  // All done.\n",
              "  yield {\n",
              "    response: {\n",
              "      action: 'complete',\n",
              "    }\n",
              "  };\n",
              "}\n",
              "\n",
              "scope.google = scope.google || {};\n",
              "scope.google.colab = scope.google.colab || {};\n",
              "scope.google.colab._files = {\n",
              "  _uploadFiles,\n",
              "  _uploadFilesContinue,\n",
              "};\n",
              "})(self);\n",
              "</script> "
            ]
          },
          "metadata": {}
        },
        {
          "output_type": "stream",
          "name": "stdout",
          "text": [
            "Saving kaggle.json to kaggle.json\n"
          ]
        }
      ]
    },
    {
      "cell_type": "code",
      "source": [
        "!kaggle competitions download -c kkbox-music-recommendation-challenge\n"
      ],
      "metadata": {
        "colab": {
          "base_uri": "https://localhost:8080/"
        },
        "id": "IExCcmU5Ro-z",
        "outputId": "25c3e87c-7af7-4fe4-f72f-935751141175"
      },
      "execution_count": 29,
      "outputs": [
        {
          "output_type": "stream",
          "name": "stdout",
          "text": [
            "Downloading kkbox-music-recommendation-challenge.zip to /content\n",
            " 99% 343M/345M [00:12<00:00, 37.1MB/s]\n",
            "100% 345M/345M [00:13<00:00, 27.8MB/s]\n"
          ]
        }
      ]
    },
    {
      "cell_type": "code",
      "source": [
        "!unzip kkbox-music-recommendation-challenge.zip -d kkbox_dataset\n"
      ],
      "metadata": {
        "colab": {
          "base_uri": "https://localhost:8080/"
        },
        "id": "rYVl1mh1RsQp",
        "outputId": "8f5140a9-1c19-4c5d-86da-d7be5e6a2de2"
      },
      "execution_count": 30,
      "outputs": [
        {
          "output_type": "stream",
          "name": "stdout",
          "text": [
            "Archive:  kkbox-music-recommendation-challenge.zip\n",
            "  inflating: kkbox_dataset/members.csv.7z  \n",
            "  inflating: kkbox_dataset/sample_submission.csv.7z  \n",
            "  inflating: kkbox_dataset/song_extra_info.csv.7z  \n",
            "  inflating: kkbox_dataset/songs.csv.7z  \n",
            "  inflating: kkbox_dataset/test.csv.7z  \n",
            "  inflating: kkbox_dataset/train.csv.7z  \n"
          ]
        }
      ]
    },
    {
      "cell_type": "code",
      "source": [
        "# !pip install pyunpack\n",
        "# !pip install patool\n",
        "\n",
        "from pyunpack import Archive\n",
        "import pandas as pd\n",
        "\n",
        "# Extract the dataset files from the .7z archives\n",
        "Archive('kkbox_dataset/members.csv.7z').extractall('kkbox_dataset')\n",
        "Archive('kkbox_dataset/sample_submission.csv.7z').extractall('kkbox_dataset')\n",
        "Archive('kkbox_dataset/song_extra_info.csv.7z').extractall('kkbox_dataset')\n",
        "Archive('kkbox_dataset/songs.csv.7z').extractall('kkbox_dataset')\n",
        "Archive('kkbox_dataset/test.csv.7z').extractall('kkbox_dataset')\n",
        "Archive('kkbox_dataset/train.csv.7z').extractall('kkbox_dataset')\n",
        "\n",
        "# Load the extracted dataset files into pandas DataFrames\n",
        "members_data = pd.read_csv('kkbox_dataset/members.csv')\n",
        "sample_submission_data = pd.read_csv('kkbox_dataset/sample_submission.csv')\n",
        "song_extra_info_data = pd.read_csv('kkbox_dataset/song_extra_info.csv')\n",
        "songs_data = pd.read_csv('kkbox_dataset/songs.csv')\n",
        "test_data = pd.read_csv('kkbox_dataset/test.csv')\n",
        "train_data = pd.read_csv('kkbox_dataset/train.csv')"
      ],
      "metadata": {
        "id": "p6C-7fiJRu2B"
      },
      "execution_count": 3,
      "outputs": []
    },
    {
      "cell_type": "code",
      "source": [
        "# Perform EDA on the train data\n",
        "print(\"Train Data:\")\n",
        "print(train_data.head())\n",
        "print(train_data.info())\n",
        "print(train_data.describe())\n",
        "\n",
        "# Perform EDA on the members data\n",
        "print(\"\\nMembers Data:\")\n",
        "print(members_data.head())\n",
        "print(members_data.info())\n",
        "print(members_data.describe())\n",
        "\n",
        "# Perform EDA on the songs data\n",
        "print(\"\\nSongs Data:\")\n",
        "print(songs_data.head())\n",
        "print(songs_data.info())\n",
        "print(songs_data.describe())"
      ],
      "metadata": {
        "id": "Y05nwQ9OuLbX",
        "colab": {
          "base_uri": "https://localhost:8080/"
        },
        "outputId": "cfd10742-1942-4475-f633-ad1252cb29bb"
      },
      "execution_count": 7,
      "outputs": [
        {
          "output_type": "stream",
          "name": "stdout",
          "text": [
            "Train Data:\n",
            "                                           msno  \\\n",
            "0  FGtllVqz18RPiwJj/edr2gV78zirAiY/9SmYvia+kCg=   \n",
            "1  Xumu+NIjS6QYVxDS4/t3SawvJ7viT9hPKXmf0RtLNx8=   \n",
            "2  Xumu+NIjS6QYVxDS4/t3SawvJ7viT9hPKXmf0RtLNx8=   \n",
            "3  Xumu+NIjS6QYVxDS4/t3SawvJ7viT9hPKXmf0RtLNx8=   \n",
            "4  FGtllVqz18RPiwJj/edr2gV78zirAiY/9SmYvia+kCg=   \n",
            "\n",
            "                                        song_id source_system_tab  \\\n",
            "0  BBzumQNXUHKdEBOB7mAJuzok+IJA1c2Ryg/yzTF6tik=           explore   \n",
            "1  bhp/MpSNoqoxOIB+/l8WPqu6jldth4DIpCm3ayXnJqM=        my library   \n",
            "2  JNWfrrC7zNN7BdMpsISKa4Mw+xVJYNnxXh3/Epw7QgY=        my library   \n",
            "3  2A87tzfnJTSWqD7gIZHisolhe4DMdzkbd6LzO1KHjNs=        my library   \n",
            "4  3qm6XTZ6MOCU11x8FIVbAGH5l5uMkT3/ZalWG1oo2Gc=           explore   \n",
            "\n",
            "    source_screen_name      source_type  target  \n",
            "0              Explore  online-playlist       1  \n",
            "1  Local playlist more   local-playlist       1  \n",
            "2  Local playlist more   local-playlist       1  \n",
            "3  Local playlist more   local-playlist       1  \n",
            "4              Explore  online-playlist       1  \n",
            "<class 'pandas.core.frame.DataFrame'>\n",
            "RangeIndex: 7377418 entries, 0 to 7377417\n",
            "Data columns (total 6 columns):\n",
            " #   Column              Dtype \n",
            "---  ------              ----- \n",
            " 0   msno                object\n",
            " 1   song_id             object\n",
            " 2   source_system_tab   object\n",
            " 3   source_screen_name  object\n",
            " 4   source_type         object\n",
            " 5   target              int64 \n",
            "dtypes: int64(1), object(5)\n",
            "memory usage: 337.7+ MB\n",
            "None\n",
            "             target\n",
            "count  7.377418e+06\n",
            "mean   5.035171e-01\n",
            "std    4.999877e-01\n",
            "min    0.000000e+00\n",
            "25%    0.000000e+00\n",
            "50%    1.000000e+00\n",
            "75%    1.000000e+00\n",
            "max    1.000000e+00\n",
            "\n",
            "Members Data:\n",
            "                                           msno  city  bd gender  \\\n",
            "0  XQxgAYj3klVKjR3oxPPXYYFp4soD4TuBghkhMTD4oTw=     1   0    NaN   \n",
            "1  UizsfmJb9mV54qE9hCYyU07Va97c0lCRLEQX3ae+ztM=     1   0    NaN   \n",
            "2  D8nEhsIOBSoE6VthTaqDX8U6lqjJ7dLdr72mOyLya2A=     1   0    NaN   \n",
            "3  mCuD+tZ1hERA/o5GPqk38e041J8ZsBaLcu7nGoIIvhI=     1   0    NaN   \n",
            "4  q4HRBfVSssAFS9iRfxWrohxuk9kCYMKjHOEagUMV6rQ=     1   0    NaN   \n",
            "\n",
            "   registered_via  registration_init_time  expiration_date  \n",
            "0               7                20110820         20170920  \n",
            "1               7                20150628         20170622  \n",
            "2               4                20160411         20170712  \n",
            "3               9                20150906         20150907  \n",
            "4               4                20170126         20170613  \n",
            "<class 'pandas.core.frame.DataFrame'>\n",
            "RangeIndex: 34403 entries, 0 to 34402\n",
            "Data columns (total 7 columns):\n",
            " #   Column                  Non-Null Count  Dtype \n",
            "---  ------                  --------------  ----- \n",
            " 0   msno                    34403 non-null  object\n",
            " 1   city                    34403 non-null  int64 \n",
            " 2   bd                      34403 non-null  int64 \n",
            " 3   gender                  14501 non-null  object\n",
            " 4   registered_via          34403 non-null  int64 \n",
            " 5   registration_init_time  34403 non-null  int64 \n",
            " 6   expiration_date         34403 non-null  int64 \n",
            "dtypes: int64(5), object(2)\n",
            "memory usage: 1.8+ MB\n",
            "None\n",
            "               city            bd  registered_via  registration_init_time  \\\n",
            "count  34403.000000  34403.000000    34403.000000            3.440300e+04   \n",
            "mean       5.371276     12.280935        5.953376            2.013994e+07   \n",
            "std        6.243929     18.170251        2.287534            2.954015e+04   \n",
            "min        1.000000    -43.000000        3.000000            2.004033e+07   \n",
            "25%        1.000000      0.000000        4.000000            2.012103e+07   \n",
            "50%        1.000000      0.000000        7.000000            2.015090e+07   \n",
            "75%       10.000000     25.000000        9.000000            2.016110e+07   \n",
            "max       22.000000   1051.000000       16.000000            2.017023e+07   \n",
            "\n",
            "       expiration_date  \n",
            "count     3.440300e+04  \n",
            "mean      2.016901e+07  \n",
            "std       7.320925e+03  \n",
            "min       1.970010e+07  \n",
            "25%       2.017020e+07  \n",
            "50%       2.017091e+07  \n",
            "75%       2.017093e+07  \n",
            "max       2.020102e+07  \n",
            "\n",
            "Songs Data:\n",
            "                                        song_id  song_length genre_ids  \\\n",
            "0  CXoTN1eb7AI+DntdU1vbcwGRV4SCIDxZu+YD8JP8r4E=       247640       465   \n",
            "1  o0kFgae9QtnYgRkVPqLJwa05zIhRlUjfF7O1tDw0ZDU=       197328       444   \n",
            "2  DwVvVurfpuz+XPuFvucclVQEyPqcpUkHR0ne1RQzPs0=       231781       465   \n",
            "3  dKMBWoZyScdxSkihKG+Vf47nc18N9q4m58+b4e7dSSE=       273554       465   \n",
            "4  W3bqWd3T+VeHFzHAUfARgW9AvVRaF4N5Yzm4Mr6Eo/o=       140329       726   \n",
            "\n",
            "        artist_name                            composer     lyricist  language  \n",
            "0  張信哲 (Jeff Chang)                                  董貞          何啟弘       3.0  \n",
            "1         BLACKPINK  TEDDY|  FUTURE BOUNCE|  Bekuh BOOM        TEDDY      31.0  \n",
            "2      SUPER JUNIOR                                 NaN          NaN      31.0  \n",
            "3             S.H.E                                 湯小康          徐世珍       3.0  \n",
            "4              貴族精選                         Traditional  Traditional      52.0  \n",
            "<class 'pandas.core.frame.DataFrame'>\n",
            "RangeIndex: 2296320 entries, 0 to 2296319\n",
            "Data columns (total 7 columns):\n",
            " #   Column       Dtype  \n",
            "---  ------       -----  \n",
            " 0   song_id      object \n",
            " 1   song_length  int64  \n",
            " 2   genre_ids    object \n",
            " 3   artist_name  object \n",
            " 4   composer     object \n",
            " 5   lyricist     object \n",
            " 6   language     float64\n",
            "dtypes: float64(1), int64(1), object(5)\n",
            "memory usage: 122.6+ MB\n",
            "None\n",
            "        song_length      language\n",
            "count  2.296320e+06  2.296319e+06\n",
            "mean   2.469935e+05  3.237800e+01\n",
            "std    1.609200e+05  2.433241e+01\n",
            "min    1.850000e+02 -1.000000e+00\n",
            "25%    1.836000e+05 -1.000000e+00\n",
            "50%    2.266270e+05  5.200000e+01\n",
            "75%    2.772690e+05  5.200000e+01\n",
            "max    1.217385e+07  5.900000e+01\n"
          ]
        }
      ]
    },
    {
      "cell_type": "code",
      "source": [
        "# Merge the datasets based on common columns\n",
        "merged_data = pd.merge(train_data, members_data, on='msno', how='left')\n",
        "merged_data = pd.merge(merged_data, songs_data, on='song_id', how='left')"
      ],
      "metadata": {
        "id": "sdIzKRJ8uPUx"
      },
      "execution_count": 5,
      "outputs": []
    },
    {
      "cell_type": "code",
      "source": [
        "# Perform further EDA on the merged data\n",
        "print(\"\\nMerged Data:\")\n",
        "print(merged_data.head())\n",
        "print(merged_data.info())\n",
        "print(merged_data.describe())"
      ],
      "metadata": {
        "id": "8VP7-Cq5uTEb",
        "colab": {
          "base_uri": "https://localhost:8080/"
        },
        "outputId": "26a1519e-d3c4-495d-98a0-904ce62c1a06"
      },
      "execution_count": 6,
      "outputs": [
        {
          "output_type": "stream",
          "name": "stdout",
          "text": [
            "\n",
            "Merged Data:\n",
            "                                           msno  \\\n",
            "0  FGtllVqz18RPiwJj/edr2gV78zirAiY/9SmYvia+kCg=   \n",
            "1  Xumu+NIjS6QYVxDS4/t3SawvJ7viT9hPKXmf0RtLNx8=   \n",
            "2  Xumu+NIjS6QYVxDS4/t3SawvJ7viT9hPKXmf0RtLNx8=   \n",
            "3  Xumu+NIjS6QYVxDS4/t3SawvJ7viT9hPKXmf0RtLNx8=   \n",
            "4  FGtllVqz18RPiwJj/edr2gV78zirAiY/9SmYvia+kCg=   \n",
            "\n",
            "                                        song_id source_system_tab  \\\n",
            "0  BBzumQNXUHKdEBOB7mAJuzok+IJA1c2Ryg/yzTF6tik=           explore   \n",
            "1  bhp/MpSNoqoxOIB+/l8WPqu6jldth4DIpCm3ayXnJqM=        my library   \n",
            "2  JNWfrrC7zNN7BdMpsISKa4Mw+xVJYNnxXh3/Epw7QgY=        my library   \n",
            "3  2A87tzfnJTSWqD7gIZHisolhe4DMdzkbd6LzO1KHjNs=        my library   \n",
            "4  3qm6XTZ6MOCU11x8FIVbAGH5l5uMkT3/ZalWG1oo2Gc=           explore   \n",
            "\n",
            "    source_screen_name      source_type  target  city  bd  gender  \\\n",
            "0              Explore  online-playlist       1     1   0     NaN   \n",
            "1  Local playlist more   local-playlist       1    13  24  female   \n",
            "2  Local playlist more   local-playlist       1    13  24  female   \n",
            "3  Local playlist more   local-playlist       1    13  24  female   \n",
            "4              Explore  online-playlist       1     1   0     NaN   \n",
            "\n",
            "   registered_via  registration_init_time  expiration_date  song_length  \\\n",
            "0               7                20120102         20171005     206471.0   \n",
            "1               9                20110525         20170911     284584.0   \n",
            "2               9                20110525         20170911     225396.0   \n",
            "3               9                20110525         20170911     255512.0   \n",
            "4               7                20120102         20171005     187802.0   \n",
            "\n",
            "  genre_ids      artist_name                                 composer  \\\n",
            "0       359         Bastille                     Dan Smith| Mark Crew   \n",
            "1      1259  Various Artists                                      NaN   \n",
            "2      1259              Nas     N. Jones、W. Adams、J. Lordan、D. Ingle   \n",
            "3      1019         Soundway                            Kwadwo Donkoh   \n",
            "4      1011      Brett Young  Brett Young| Kelly Archer| Justin Ebach   \n",
            "\n",
            "  lyricist  language  \n",
            "0      NaN      52.0  \n",
            "1      NaN      52.0  \n",
            "2      NaN      52.0  \n",
            "3      NaN      -1.0  \n",
            "4      NaN      52.0  \n",
            "<class 'pandas.core.frame.DataFrame'>\n",
            "Int64Index: 7377418 entries, 0 to 7377417\n",
            "Data columns (total 18 columns):\n",
            " #   Column                  Dtype  \n",
            "---  ------                  -----  \n",
            " 0   msno                    object \n",
            " 1   song_id                 object \n",
            " 2   source_system_tab       object \n",
            " 3   source_screen_name      object \n",
            " 4   source_type             object \n",
            " 5   target                  int64  \n",
            " 6   city                    int64  \n",
            " 7   bd                      int64  \n",
            " 8   gender                  object \n",
            " 9   registered_via          int64  \n",
            " 10  registration_init_time  int64  \n",
            " 11  expiration_date         int64  \n",
            " 12  song_length             float64\n",
            " 13  genre_ids               object \n",
            " 14  artist_name             object \n",
            " 15  composer                object \n",
            " 16  lyricist                object \n",
            " 17  language                float64\n",
            "dtypes: float64(2), int64(6), object(10)\n",
            "memory usage: 1.0+ GB\n",
            "None\n",
            "             target          city            bd  registered_via  \\\n",
            "count  7.377418e+06  7.377418e+06  7.377418e+06    7.377418e+06   \n",
            "mean   5.035171e-01  7.511399e+00  1.753927e+01    6.794068e+00   \n",
            "std    4.999877e-01  6.641625e+00  2.155447e+01    2.275774e+00   \n",
            "min    0.000000e+00  1.000000e+00 -4.300000e+01    3.000000e+00   \n",
            "25%    0.000000e+00  1.000000e+00  0.000000e+00    4.000000e+00   \n",
            "50%    1.000000e+00  5.000000e+00  2.100000e+01    7.000000e+00   \n",
            "75%    1.000000e+00  1.300000e+01  2.900000e+01    9.000000e+00   \n",
            "max    1.000000e+00  2.200000e+01  1.051000e+03    1.300000e+01   \n",
            "\n",
            "       registration_init_time  expiration_date   song_length      language  \n",
            "count            7.377418e+06     7.377418e+06  7.377304e+06  7.377268e+06  \n",
            "mean             2.012810e+07     2.017157e+07  2.451210e+05  1.860933e+01  \n",
            "std              3.017281e+04     3.869831e+03  6.734471e+04  2.117681e+01  \n",
            "min              2.004033e+07     1.970010e+07  1.393000e+03 -1.000000e+00  \n",
            "25%              2.011070e+07     2.017091e+07  2.147260e+05  3.000000e+00  \n",
            "50%              2.013102e+07     2.017093e+07  2.418120e+05  3.000000e+00  \n",
            "75%              2.015102e+07     2.017101e+07  2.721600e+05  5.200000e+01  \n",
            "max              2.017013e+07     2.020102e+07  1.085171e+07  5.900000e+01  \n"
          ]
        }
      ]
    },
    {
      "cell_type": "code",
      "source": [
        "# Visualize the target variable distribution\n",
        "sns.countplot(data=merged_data, x='target')\n",
        "plt.title('Target Variable Distribution')\n",
        "plt.show()"
      ],
      "metadata": {
        "id": "96LeXWSQuaD0",
        "colab": {
          "base_uri": "https://localhost:8080/",
          "height": 472
        },
        "outputId": "894ecca6-ea62-49db-86a9-20d5fcc4125c"
      },
      "execution_count": 37,
      "outputs": [
        {
          "output_type": "display_data",
          "data": {
            "text/plain": [
              "<Figure size 640x480 with 1 Axes>"
            ],
            "image/png": "[encoded data removed]"
          },
          "metadata": {}
        }
      ]
    },
    {
      "cell_type": "code",
      "source": [
        "# Visualize the correlation matrix\n",
        "corr_matrix = merged_data.corr()\n",
        "sns.heatmap(corr_matrix, annot=True, cmap='coolwarm')\n",
        "plt.title('Correlation Matrix')\n",
        "plt.show()"
      ],
      "metadata": {
        "id": "dzR1t-97ucvm",
        "colab": {
          "base_uri": "https://localhost:8080/",
          "height": 641
        },
        "outputId": "8544756c-eda2-4063-b59c-31d69439e99e"
      },
      "execution_count": 8,
      "outputs": [
        {
          "output_type": "stream",
          "name": "stderr",
          "text": [
            "<ipython-input-8-415c70655f07>:2: FutureWarning: The default value of numeric_only in DataFrame.corr is deprecated. In a future version, it will default to False. Select only valid columns or specify the value of numeric_only to silence this warning.\n",
            "  corr_matrix = merged_data.corr()\n"
          ]
        },
        {
          "output_type": "display_data",
          "data": {
            "text/plain": [
              "<Figure size 640x480 with 2 Axes>"
            ],
            "image/png": "[encoded data removed]"
          },
          "metadata": {}
        }
      ]
    },
    {
      "cell_type": "code",
      "source": [
        "# Create the Surprise Reader object\n",
        "reader = Reader(rating_scale=(0, 1))\n",
        "\n",
        "# Load the dataset into Surprise format\n",
        "data = Dataset.load_from_df(train_data[['msno', 'song_id', 'target']], reader)"
      ],
      "metadata": {
        "id": "yg6tLSBZufk4"
      },
      "execution_count": 9,
      "outputs": []
    },
    {
      "cell_type": "code",
      "source": [
        "# Split the data into training and testing sets\n",
        "train_set, test_set = train_test_split(data, test_size=0.2, random_state=42)"
      ],
      "metadata": {
        "id": "WfZv2HgcutDF"
      },
      "execution_count": 10,
      "outputs": []
    },
    {
      "cell_type": "code",
      "source": [
        "# Define the SVD model\n",
        "model = SVD()\n",
        "\n",
        "# Train the model on the training set\n",
        "model.fit(train_set)"
      ],
      "metadata": {
        "id": "MZSsENVKuv8l",
        "colab": {
          "base_uri": "https://localhost:8080/"
        },
        "outputId": "77b9c4d1-e731-44d5-ffa8-6e1495e76893"
      },
      "execution_count": 11,
      "outputs": [
        {
          "output_type": "execute_result",
          "data": {
            "text/plain": [
              "<surprise.prediction_algorithms.matrix_factorization.SVD at 0x7f93ecc30550>"
            ]
          },
          "metadata": {},
          "execution_count": 11
        }
      ]
    },
    {
      "cell_type": "code",
      "source": [
        "# Make predictions on the test set\n",
        "predictions = model.test(test_set)\n",
        "\n",
        "# Evaluate the model using RMSE\n",
        "accuracy = rmse(predictions)\n",
        "print(\"RMSE:\", accuracy)"
      ],
      "metadata": {
        "id": "Q6IB6Ymnuz3-",
        "colab": {
          "base_uri": "https://localhost:8080/"
        },
        "outputId": "9d640274-4e40-4441-8886-9f36ceeb57d0"
      },
      "execution_count": 12,
      "outputs": [
        {
          "output_type": "stream",
          "name": "stdout",
          "text": [
            "RMSE: 0.4555\n",
            "RMSE: 0.45554985620094357\n"
          ]
        }
      ]
    }
  ]
}